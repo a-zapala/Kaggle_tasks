{
 "cells": [
  {
   "cell_type": "code",
   "execution_count": 8,
   "metadata": {
    "pycharm": {
     "is_executing": false,
     "name": "#%%\n"
    }
   },
   "outputs": [],
   "source": [
    "from __future__ import print_function\n",
    "import numpy as np\n",
    "import torch\n",
    "import pandas as pd\n",
    "import torch.nn as nn\n",
    "import torch.optim as optim\n",
    "from sklearn.metrics import confusion_matrix\n",
    "from torch.utils.data.sampler import SubsetRandomSampler\n",
    "from torchvision import datasets, transforms, models"
   ]
  },
  {
   "cell_type": "code",
   "execution_count": 9,
   "metadata": {
    "pycharm": {
     "is_executing": false,
     "name": "#%%\n"
    }
   },
   "outputs": [],
   "source": [
    "class Net(nn.Module):\n",
    "    def __init__(self):\n",
    "        super(Net, self).__init__()\n",
    "        self.conv1 = nn.Conv2d(1, 32, 5, stride=1)\n",
    "        self.conv2 = nn.Conv2d(32, 64, 3,stride=1)\n",
    "        self.fc1 = nn.Linear(5*5*64, 1000)\n",
    "        self.fc2 = nn.Linear(1000, 10)\n",
    "        self.drop = nn.Dropout(p=0.4)\n",
    "        self.relu = nn.ReLU()\n",
    "        self.max_pool2d = nn.MaxPool2d(2, 2)\n",
    "        self.log_softmax = nn.LogSoftmax(dim=1)\n",
    "\n",
    "    def forward(self, x):\n",
    "        x = self.relu(self.conv1(x))\n",
    "        x = self.max_pool2d(x)\n",
    "        x = self.relu(self.conv2(x))\n",
    "        x = self.max_pool2d(x)\n",
    "        x = self.drop(x)\n",
    "        x = x.view(-1, 5*5*64)\n",
    "        x = self.relu(self.fc1(x))\n",
    "        x = self.fc2(x)\n",
    "        return self.log_softmax(x)\n",
    "\n",
    "class Net2(nn.Module):\n",
    "    def __init__(self):\n",
    "        super(Net2, self).__init__()\n",
    "        self.conv1 = nn.Conv2d(1, 32, 3, stride=1,padding=1)\n",
    "        self.bn_1 = nn.BatchNorm2d(32)\n",
    "        self.conv2 = nn.Conv2d(32, 32, 3,stride=1,padding=1)\n",
    "        self.bn_2 = nn.BatchNorm2d(32)\n",
    "        \n",
    "        self.conv1_2 = nn.Conv2d(32, 64, 3, stride=1,padding=1)\n",
    "        self.bn_1_2 = nn.BatchNorm2d(64)\n",
    "        self.conv2_2 = nn.Conv2d(64, 64, 3,stride=1,padding=1)\n",
    "        self.bn_2_2 = nn.BatchNorm2d(64)\n",
    "                \n",
    "        \n",
    "        self.fc1 = nn.Linear(7*7*64, 800)\n",
    "        self.fc2 = nn.Linear(800, 10)\n",
    "        self.small_drop = nn.Dropout(p=0.2)\n",
    "        self.big_drop  = nn.Dropout(p=0.4)\n",
    "        self.relu = nn.ReLU()\n",
    "        self.max_pool2d = nn.MaxPool2d(2, 2)\n",
    "        self.log_softmax = nn.LogSoftmax(dim=1)\n",
    "\n",
    "    def forward(self, x):\n",
    "        x = self.relu(self.conv1(x))\n",
    "        x = self.bn_1(x)\n",
    "        x = self.relu(self.conv2(x))\n",
    "        x = self.bn_2(x)\n",
    "        x = self.max_pool2d(x)\n",
    "        x = self.small_drop(x)\n",
    "        \n",
    "        x = self.relu(self.conv1_2(x))\n",
    "        x = self.bn_1_2(x)\n",
    "        x = self.relu(self.conv2_2(x))\n",
    "        x = self.bn_2_2(x)\n",
    "        x = self.max_pool2d(x)\n",
    "        x = self.small_drop(x)\n",
    "        \n",
    "        x = x.view(-1, 7*7*64)\n",
    "        x = self.relu(self.fc1(x))\n",
    "        x = self.big_drop(x)\n",
    "        x = self.fc2(x)\n",
    "        return self.log_softmax(x)\n",
    "    "
   ]
  },
  {
   "cell_type": "code",
   "execution_count": 35,
   "metadata": {
    "pycharm": {
     "is_executing": false,
     "name": "#%%\n"
    }
   },
   "outputs": [],
   "source": [
    "def train(log_interval, model, device, train_loader, optimizer, epoch, if_all):\n",
    "    model.train()\n",
    "    if if_all:\n",
    "        train_size = len(train_loader.dataset)\n",
    "    else:\n",
    "        train_size = int(np.float((len(train_loader.dataset) * (1-validation_size))))\n",
    "    \n",
    "    for batch_idx, (data, target) in enumerate(train_loader):\n",
    "        data, target = data.to(device), target.to(device)\n",
    "        optimizer.zero_grad()\n",
    "        output = model(data)\n",
    "        loss_f = nn.NLLLoss()\n",
    "        loss = loss_f(output, target)\n",
    "        loss.backward()\n",
    "        optimizer.step()\n",
    "        if batch_idx % log_interval == 0:\n",
    "            print('Train Epoch: {} [{}/{} ({:.0f}%)]\\tLoss: {:.6f}'.format(\n",
    "                epoch, batch_idx * len(data), train_size,\n",
    "                100. * batch_idx / len(train_loader), loss.item()))\n",
    "\n",
    "\n",
    "def test(model, device, test_loader,if_test,*args):\n",
    "    model.eval()\n",
    "    predictions = np.array([])\n",
    "    targets = np.array([])\n",
    "    \n",
    "    if(if_test):\n",
    "        test_size = len(test_loader.dataset)\n",
    "    else:\n",
    "        test_size = int(np.float((len(test_loader.dataset) * validation_size)))\n",
    "    test_loss = 0\n",
    "    correct = 0\n",
    "    loss_f = nn.NLLLoss(reduction='sum')\n",
    "    df = pd.DataFrame(columns=['Id','Class'])\n",
    "    with torch.no_grad():\n",
    "        for batch_idx, (data, target, index) in enumerate(test_loader):\n",
    "            data, target = data.to(device), target.to(device)\n",
    "            output = model(data)\n",
    "            test_loss += loss_f(output, target).item() # sum up batch loss\n",
    "            pred = output.max(1, keepdim=True)[1] # get the index of the max log-probability\n",
    "            correct += pred.eq(target.view_as(pred)).sum().item()\n",
    "            predictions = np.append(predictions, pred.cpu().numpy().ravel())\n",
    "            targets = np.append(targets, target.cpu().numpy().ravel())\n",
    "            if len(args) > 0:\n",
    "                df2 = pd.DataFrame({\"Id\" : index.numpy(), \"Class\": pred.cpu().numpy().ravel()})\n",
    "                df = pd.concat([df2,df],ignore_index=True)\n",
    "    \n",
    "    test_loss /= test_size\n",
    "    print('\\nTest set: Average loss: {:.4f}, Accuracy: {}/{} ({:.0f}%)\\n'.format(\n",
    "        test_loss, correct, test_size,\n",
    "        100. * correct / test_size))\n",
    "    \n",
    "    if len(args) > 0:\n",
    "        df = df.sort_values(by=['Id'])\n",
    "        df.to_csv('output/'+args[0]+'.csv', index=False, columns=['Id', 'Class'])\n",
    "    \n",
    "    return targets,predictions\n",
    "    "
   ]
  },
  {
   "cell_type": "code",
   "execution_count": 11,
   "metadata": {
    "pycharm": {
     "is_executing": false,
     "name": "#%%\n"
    }
   },
   "outputs": [],
   "source": [
    "# Training settings\n",
    "batch_size = 200\n",
    "test_batch_size = 100\n",
    "epochs = 5\n",
    "lr = 0.0001\n",
    "momentum = 0.5\n",
    "seed = 1\n",
    "log_interval = 100\n",
    "save_model = False\n",
    "use_cuda = True # change to False if running without GPU\n",
    "validation_size = 0.2\n",
    "num_workers = 1\n",
    "pin_memory = True\n",
    "\n",
    "torch.manual_seed(seed)\n",
    "device = torch.device(\"cuda\" if use_cuda else \"cpu\")"
   ]
  },
  {
   "cell_type": "code",
   "execution_count": 12,
   "metadata": {
    "pycharm": {
     "is_executing": false,
     "name": "#%%\n"
    }
   },
   "outputs": [],
   "source": [
    "def dataset_with_indices(cls):\n",
    "    def __getitem__(self, index):\n",
    "        data, target = cls.__getitem__(self, index)\n",
    "        return data, target, index\n",
    "    \n",
    "    return type(cls.__name__, (cls,), {\n",
    "            '__getitem__': __getitem__,\n",
    "    })\n",
    "\n",
    "def get_train_valid_alltrain_test_loader():\n",
    "    FashionMINSTWithIndices = dataset_with_indices(datasets.FashionMNIST)\n",
    "    \n",
    "    train_transforms =  transforms.Compose([\n",
    "                                               #transforms.RandomHorizontalFlip(),\n",
    "                                            transforms.RandomVerticalFlip(),\n",
    "                                            transforms.ToTensor(),\n",
    "                                            transforms.Normalize((0.5,), (0.5,)),\n",
    "                                            transforms.RandomErasing()\n",
    "                                           ])\n",
    "    \n",
    "    test_transforms =  transforms.Compose([\n",
    "                                               transforms.ToTensor(),\n",
    "                                               transforms.Normalize((0.5,), (0.5,)),\n",
    "                                           ])\n",
    "    \n",
    "    train_dataset = datasets.FashionMNIST(root='./data', train=True, \n",
    "                    download=True, transform=train_transforms)\n",
    "    \n",
    "    valid_dataset = FashionMINSTWithIndices(root='./data', train=True, \n",
    "                    download=True, transform=test_transforms)\n",
    "    \n",
    "    test_dataset = FashionMINSTWithIndices(root='./data', train=False, \n",
    "                                        download=True, transform=test_transforms)\n",
    "    \n",
    "    split = int(np.floor(len(train_dataset)*validation_size))\n",
    "    indices = list(range(len(train_dataset)))\n",
    "    \n",
    "    np.random.seed(seed)\n",
    "    np.random.shuffle(indices)\n",
    "    \n",
    "    train_idx, valid_idx = indices[split:], indices[:split]\n",
    "    \n",
    "    train_sampler = SubsetRandomSampler(train_idx)\n",
    "    valid_sampler = SubsetRandomSampler(valid_idx)\n",
    "    \n",
    "    train_loader = torch.utils.data.DataLoader(train_dataset, \n",
    "                        batch_size=batch_size, sampler=train_sampler, \n",
    "                        num_workers=num_workers, pin_memory=pin_memory)\n",
    "    \n",
    "    valid_loader = torch.utils.data.DataLoader(valid_dataset, \n",
    "                        batch_size=batch_size, sampler=valid_sampler, \n",
    "                        num_workers=num_workers, pin_memory=pin_memory)\n",
    "    \n",
    "    all_train_loader = torch.utils.data.DataLoader(train_dataset,\n",
    "                           batch_size=batch_size, shuffle=True, num_workers=num_workers, pin_memory=pin_memory) \n",
    "    \n",
    "    test_loader = torch.utils.data.DataLoader(test_dataset,\n",
    "                                             batch_size=batch_size, shuffle=True, num_workers=num_workers, pin_memory=pin_memory)\n",
    "    \n",
    "    return train_loader, valid_loader, all_train_loader, test_loader"
   ]
  },
  {
   "cell_type": "code",
   "execution_count": 13,
   "metadata": {
    "pycharm": {
     "is_executing": false,
     "name": "#%%\n"
    }
   },
   "outputs": [],
   "source": [
    "model = Net2().to(device)\n",
    "optimizer = optim.Adam(model.parameters(),betas=(0.9, 0.999))\n",
    "train_loader, valid_loader, all_train_loader, test_loader = get_train_valid_alltrain_test_loader()"
   ]
  },
  {
   "cell_type": "code",
   "execution_count": 14,
   "metadata": {
    "pycharm": {
     "is_executing": false,
     "name": "#%%\n"
    }
   },
   "outputs": [],
   "source": [
    "import time\n",
    "\n",
    "def train_and_test():\n",
    "    start = time.time()\n",
    "    for epoch in range(1, epochs + 1):\n",
    "        train(log_interval, model, device, all_train_loader, optimizer, epoch,True)\n",
    "        test(model, device, test_loader,True)\n",
    "    end = time.time()\n",
    "    print(end - start)\n",
    "    \n",
    "def train_and_validete():\n",
    "    start = time.time()\n",
    "    for epoch in range(1, epochs + 1):\n",
    "        train(log_interval, model, device, train_loader, optimizer, epoch,False)\n",
    "        test(model, device, valid_loader,False)\n",
    "    end = time.time()\n",
    "    print(end - start)"
   ]
  },
  {
   "cell_type": "code",
   "execution_count": 15,
   "metadata": {
    "pycharm": {
     "is_executing": false,
     "name": "#%%\n"
    }
   },
   "outputs": [
    {
     "name": "stdout",
     "output_type": "stream",
     "text": [
      "Train Epoch: 1 [0/60000 (0%)]\tLoss: 2.496720\n",
      "Train Epoch: 1 [20000/60000 (33%)]\tLoss: 0.586271\n",
      "Train Epoch: 1 [40000/60000 (67%)]\tLoss: 0.506295\n",
      "\n",
      "Test set: Average loss: 0.3974, Accuracy: 8479/10000 (85%)\n",
      "\n",
      "Train Epoch: 2 [0/60000 (0%)]\tLoss: 0.452887\n",
      "Train Epoch: 2 [20000/60000 (33%)]\tLoss: 0.282881\n",
      "Train Epoch: 2 [40000/60000 (67%)]\tLoss: 0.285765\n",
      "\n",
      "Test set: Average loss: 0.3099, Accuracy: 8877/10000 (89%)\n",
      "\n",
      "Train Epoch: 3 [0/60000 (0%)]\tLoss: 0.327430\n",
      "Train Epoch: 3 [20000/60000 (33%)]\tLoss: 0.199047\n",
      "Train Epoch: 3 [40000/60000 (67%)]\tLoss: 0.283343\n",
      "\n",
      "Test set: Average loss: 0.2852, Accuracy: 8971/10000 (90%)\n",
      "\n",
      "Train Epoch: 4 [0/60000 (0%)]\tLoss: 0.344462\n",
      "Train Epoch: 4 [20000/60000 (33%)]\tLoss: 0.273782\n",
      "Train Epoch: 4 [40000/60000 (67%)]\tLoss: 0.318950\n",
      "\n",
      "Test set: Average loss: 0.2678, Accuracy: 8993/10000 (90%)\n",
      "\n",
      "Train Epoch: 5 [0/60000 (0%)]\tLoss: 0.308804\n",
      "Train Epoch: 5 [20000/60000 (33%)]\tLoss: 0.352538\n",
      "Train Epoch: 5 [40000/60000 (67%)]\tLoss: 0.215785\n",
      "\n",
      "Test set: Average loss: 0.2473, Accuracy: 9109/10000 (91%)\n",
      "\n",
      "107.82476019859314\n"
     ]
    }
   ],
   "source": [
    "train_and_test()"
   ]
  },
  {
   "cell_type": "code",
   "execution_count": 8,
   "metadata": {
    "pycharm": {
     "is_executing": false,
     "name": "#%%\n"
    }
   },
   "outputs": [
    {
     "name": "stdout",
     "output_type": "stream",
     "text": [
      "Train Epoch: 1 [0/60000 (0%)]\tLoss: 2.472692\n",
      "Train Epoch: 1 [20000/60000 (33%)]\tLoss: 0.381352\n",
      "Train Epoch: 1 [40000/60000 (67%)]\tLoss: 0.442516\n",
      "\n",
      "Test set: Average loss: 0.2771, Accuracy: 8991/10000 (90%)\n",
      "\n",
      "Train Epoch: 2 [0/60000 (0%)]\tLoss: 0.181273\n",
      "Train Epoch: 2 [20000/60000 (33%)]\tLoss: 0.300359\n",
      "Train Epoch: 2 [40000/60000 (67%)]\tLoss: 0.213007\n",
      "\n",
      "Test set: Average loss: 0.2419, Accuracy: 9133/10000 (91%)\n",
      "\n",
      "Train Epoch: 3 [0/60000 (0%)]\tLoss: 0.244152\n",
      "Train Epoch: 3 [20000/60000 (33%)]\tLoss: 0.264274\n",
      "Train Epoch: 3 [40000/60000 (67%)]\tLoss: 0.171721\n",
      "\n",
      "Test set: Average loss: 0.2376, Accuracy: 9147/10000 (91%)\n",
      "\n",
      "Train Epoch: 4 [0/60000 (0%)]\tLoss: 0.195968\n",
      "Train Epoch: 4 [20000/60000 (33%)]\tLoss: 0.171021\n",
      "Train Epoch: 4 [40000/60000 (67%)]\tLoss: 0.217869\n",
      "\n",
      "Test set: Average loss: 0.2178, Accuracy: 9226/10000 (92%)\n",
      "\n",
      "Train Epoch: 5 [0/60000 (0%)]\tLoss: 0.203426\n",
      "Train Epoch: 5 [20000/60000 (33%)]\tLoss: 0.138698\n",
      "Train Epoch: 5 [40000/60000 (67%)]\tLoss: 0.216268\n",
      "\n",
      "Test set: Average loss: 0.2079, Accuracy: 9263/10000 (93%)\n",
      "\n",
      "Train Epoch: 6 [0/60000 (0%)]\tLoss: 0.230916\n",
      "Train Epoch: 6 [20000/60000 (33%)]\tLoss: 0.214038\n",
      "Train Epoch: 6 [40000/60000 (67%)]\tLoss: 0.141007\n",
      "\n",
      "Test set: Average loss: 0.2046, Accuracy: 9300/10000 (93%)\n",
      "\n",
      "Train Epoch: 7 [0/60000 (0%)]\tLoss: 0.158853\n",
      "Train Epoch: 7 [20000/60000 (33%)]\tLoss: 0.123673\n",
      "Train Epoch: 7 [40000/60000 (67%)]\tLoss: 0.162747\n",
      "\n",
      "Test set: Average loss: 0.1982, Accuracy: 9328/10000 (93%)\n",
      "\n",
      "Train Epoch: 8 [0/60000 (0%)]\tLoss: 0.135109\n",
      "Train Epoch: 8 [20000/60000 (33%)]\tLoss: 0.142833\n",
      "Train Epoch: 8 [40000/60000 (67%)]\tLoss: 0.125921\n",
      "\n",
      "Test set: Average loss: 0.1987, Accuracy: 9329/10000 (93%)\n",
      "\n",
      "Train Epoch: 9 [0/60000 (0%)]\tLoss: 0.066438\n",
      "Train Epoch: 9 [20000/60000 (33%)]\tLoss: 0.183850\n",
      "Train Epoch: 9 [40000/60000 (67%)]\tLoss: 0.121828\n",
      "\n",
      "Test set: Average loss: 0.2382, Accuracy: 9268/10000 (93%)\n",
      "\n",
      "Train Epoch: 10 [0/60000 (0%)]\tLoss: 0.169054\n",
      "Train Epoch: 10 [20000/60000 (33%)]\tLoss: 0.120557\n",
      "Train Epoch: 10 [40000/60000 (67%)]\tLoss: 0.150388\n",
      "\n",
      "Test set: Average loss: 0.2100, Accuracy: 9357/10000 (94%)\n",
      "\n",
      "Train Epoch: 11 [0/60000 (0%)]\tLoss: 0.063141\n",
      "Train Epoch: 11 [20000/60000 (33%)]\tLoss: 0.098690\n",
      "Train Epoch: 11 [40000/60000 (67%)]\tLoss: 0.094802\n",
      "\n",
      "Test set: Average loss: 0.2169, Accuracy: 9345/10000 (93%)\n",
      "\n",
      "Train Epoch: 12 [0/60000 (0%)]\tLoss: 0.062329\n",
      "Train Epoch: 12 [20000/60000 (33%)]\tLoss: 0.094184\n",
      "Train Epoch: 12 [40000/60000 (67%)]\tLoss: 0.106557\n",
      "\n",
      "Test set: Average loss: 0.2151, Accuracy: 9348/10000 (93%)\n",
      "\n",
      "247.48103070259094\n",
      "\n",
      "Test set: Average loss: 0.2151, Accuracy: 9348/10000 (93%)\n",
      "\n"
     ]
    }
   ],
   "source": [
    "train_and_test()\n",
    "torch.save(model.state_dict(),\"bigger_conv.pt\")\n",
    "\n",
    "test(model, device, test_loader,True,\"bigger_conv\")"
   ]
  },
  {
   "cell_type": "code",
   "execution_count": 45,
   "metadata": {
    "pycharm": {
     "is_executing": false,
     "name": "#%%\n"
    }
   },
   "outputs": [
    {
     "name": "stdout",
     "output_type": "stream",
     "text": [
      "\n",
      "Test set: Average loss: 0.2473, Accuracy: 9109/10000 (91%)\n",
      "\n",
      "Class: 0\n",
      "Number of Wrong Prediction: 127 out of 1000\n",
      "Class: 1\n",
      "Number of Wrong Prediction: 17 out of 1000\n",
      "Class: 2\n",
      "Number of Wrong Prediction: 116 out of 1000\n",
      "Class: 3\n",
      "Number of Wrong Prediction: 70 out of 1000\n",
      "Class: 4\n",
      "Number of Wrong Prediction: 172 out of 1000\n",
      "Class: 5\n",
      "Number of Wrong Prediction: 23 out of 1000\n",
      "Class: 6\n",
      "Number of Wrong Prediction: 282 out of 1000\n",
      "Class: 7\n",
      "Number of Wrong Prediction: 39 out of 1000\n",
      "Class: 8\n",
      "Number of Wrong Prediction: 16 out of 1000\n",
      "Class: 9\n",
      "Number of Wrong Prediction: 29 out of 1000\n"
     ]
    },
    {
     "data": {
      "image/png": "[encoded data removed]",
      "text/plain": [
       "<Figure size 720x720 with 2 Axes>"
      ]
     },
     "metadata": {
      "needs_background": "light"
     },
     "output_type": "display_data"
    }
   ],
   "source": [
    "import matplotlib.pyplot as plt\n",
    "import seaborn as sns\n",
    "targets, predictions = test(model, device, test_loader,True)\n",
    "\n",
    "tags = {\n",
    "    0 :\"T-shirt/top\",\n",
    "    1 :\t\"Trouser\",\n",
    "    2 :\t\"Pullover\",\n",
    "    3 : \"Dress\",\n",
    "    4 :\t\"Coat\",\n",
    "    5 :\t\"Sandal\",\n",
    "    6 :\t\"Shirt\",\n",
    "    7 :\t\"Sneaker\",\n",
    "    8 :\t\"Bag\",\n",
    "    9 :\t\"Ankle boot\"\n",
    "}\n",
    "\n",
    "confusionMatrix = confusion_matrix(targets, predictions)\n",
    "\n",
    "f,ax=plt.subplots(figsize=(10,10))\n",
    "sns.heatmap(confusionMatrix, annot=True, linewidths=0.1, fmt='.0f', ax=ax)\n",
    "plt.xlabel(\"Predicted Label\")\n",
    "plt.ylabel(\"True Label\")\n",
    "plt.title(\"Confusion Matrix\")\n",
    "plt.show()\n",
    "\n",
    "# For loop to print how many items of each class have been incorrectly estimated\n",
    "for i in range(len(confusionMatrix)):\n",
    "    print(\"Class:\",str(i))\n",
    "    print(\"Number of Wrong Prediction:\", str(sum(confusionMatrix[i])-confusionMatrix[i][i]), \"out of 1000\")\n"
   ]
  }
 ],
 "metadata": {
  "kernelspec": {
   "display_name": "Python 3",
   "language": "python",
   "name": "python3"
  },
  "language_info": {
   "codemirror_mode": {
    "name": "ipython",
    "version": 3
   },
   "file_extension": ".py",
   "mimetype": "text/x-python",
   "name": "python",
   "nbconvert_exporter": "python",
   "pygments_lexer": "ipython3",
   "version": "3.6.9"
  },
  "pycharm": {
   "stem_cell": {
    "cell_type": "raw",
    "metadata": {
     "collapsed": false
    },
    "source": []
   }
  }
 },
 "nbformat": 4,
 "nbformat_minor": 1
}
